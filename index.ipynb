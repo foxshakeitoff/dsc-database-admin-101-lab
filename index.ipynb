{
 "cells": [
  {
   "cell_type": "markdown",
   "metadata": {},
   "source": [
    "# Database Admin 101 - Lab\n",
    "\n",
    "## Introduction \n",
    "\n",
    "In this lab, you'll go through the process of designing and creating a database. From there, you'll begin to populate this table with mock data provided to you.\n",
    "\n",
    "## Objectives\n",
    "\n",
    "You will be able to:\n",
    "\n",
    "* Use knowledge of the structure of databases to create a database and populate it"
   ]
  },
  {
   "cell_type": "markdown",
   "metadata": {},
   "source": [
    "## The Scenario\n",
    "\n",
    "You are looking to design a database for a school that will house various information from student grades to contact information, class roster lists and attendance. First, think of how you would design such a database. What tables would you include? What columns would each table have? What would be the primary means to join said tables?"
   ]
  },
  {
   "cell_type": "markdown",
   "metadata": {},
   "source": [
    "## Creating the Database\n",
    "\n",
    "Now that you've put a little thought into how you might design your database, it's time to go ahead and create it! Start by import the necessary packages. Then, create a database called **school.sqlite**."
   ]
  },
  {
   "cell_type": "code",
   "execution_count": 1,
   "metadata": {},
   "outputs": [],
   "source": [
    "# Import necessary packages\n",
    "import pandas as pd\n",
    "import sqlite3\n"
   ]
  },
  {
   "cell_type": "code",
   "execution_count": 4,
   "metadata": {},
   "outputs": [],
   "source": [
    "# Create the database school.sqlite \n",
    "conn = sqlite3.connect('school.sqlite')"
   ]
  },
  {
   "cell_type": "markdown",
   "metadata": {},
   "source": [
    "## Create a Table for Contact Information\n",
    "\n",
    "Create a table called contactInfo to house contact information for both students and staff. Be sure to include columns for first name, last name, role (student/staff), telephone number, street, city, state, and zipcode. Be sure to also create a primary key for the table. "
   ]
  },
  {
   "cell_type": "code",
   "execution_count": 56,
   "metadata": {},
   "outputs": [
    {
     "ename": "OperationalError",
     "evalue": "table contactInfo already exists",
     "output_type": "error",
     "traceback": [
      "\u001b[0;31m---------------------------------------------------------------------------\u001b[0m",
      "\u001b[0;31mOperationalError\u001b[0m                          Traceback (most recent call last)",
      "\u001b[0;32m<ipython-input-56-e9439ec7e4a6>\u001b[0m in \u001b[0;36m<module>\u001b[0;34m\u001b[0m\n\u001b[1;32m     16\u001b[0m \u001b[0;34m\u001b[0m\u001b[0m\n\u001b[1;32m     17\u001b[0m \u001b[0;34m\u001b[0m\u001b[0m\n\u001b[0;32m---> 18\u001b[0;31m cur.execute(\"\"\"\n\u001b[0m\u001b[1;32m     19\u001b[0m \u001b[0mCreate\u001b[0m \u001b[0mtable\u001b[0m \u001b[0mcontactInfo\u001b[0m\u001b[0;34m\u001b[0m\u001b[0;34m\u001b[0m\u001b[0m\n\u001b[1;32m     20\u001b[0m ( userId INTEGER PRIMARY KEY,\n",
      "\u001b[0;31mOperationalError\u001b[0m: table contactInfo already exists"
     ]
    }
   ],
   "source": [
    "# Your code here\n",
    "cur = conn.cursor()\n",
    "cur.execute(\"\"\"\n",
    "Create table contactInfo\n",
    "(id Integer PRIMARY KEY,\n",
    "first_name Text,\n",
    "last_name Text,\n",
    "role Text,\n",
    "telephone_number Text,\n",
    "street Text,\n",
    "city Text,\n",
    "state Text,\n",
    "zipcode Text);\n",
    "\"\"\")\n",
    "\n",
    "\n"
   ]
  },
  {
   "cell_type": "markdown",
   "metadata": {},
   "source": [
    "## Populate the Table\n",
    "\n",
    "Below, code is provided for you in order to load a list of dictionaries. Briefly examine the list. Each dictionary in the list will serve as an entry for your contact info table. Once you've briefly investigated the structure of this data, write a for loop to iterate through the list and create an entry in your table for each person's contact info."
   ]
  },
  {
   "cell_type": "code",
   "execution_count": 57,
   "metadata": {},
   "outputs": [
    {
     "data": {
      "text/plain": [
       "[{'firstName': 'Christine',\n",
       "  'lastName': 'Holden',\n",
       "  'role': 'staff',\n",
       "  'telephone ': 2035687697,\n",
       "  'street': '1672 Whitman Court',\n",
       "  'city': 'Stamford',\n",
       "  'state': 'CT',\n",
       "  'zipcode ': '06995'},\n",
       " {'firstName': 'Christopher',\n",
       "  'lastName': 'Warren',\n",
       "  'role': 'student',\n",
       "  'telephone ': 2175150957,\n",
       "  'street': '1935 University Hill Road',\n",
       "  'city': 'Champaign',\n",
       "  'state': 'IL',\n",
       "  'zipcode ': '61938'},\n",
       " {'firstName': 'Linda',\n",
       "  'lastName': 'Jacobson',\n",
       "  'role': 'staff',\n",
       "  'telephone ': 4049446441,\n",
       "  'street': '479 Musgrave Street',\n",
       "  'city': 'Atlanta',\n",
       "  'state': 'GA',\n",
       "  'zipcode ': '30303'},\n",
       " {'firstName': 'Andrew',\n",
       "  'lastName': 'Stepp',\n",
       "  'role': 'student',\n",
       "  'telephone ': 7866419252,\n",
       "  'street': '2981 Lamberts Branch Road',\n",
       "  'city': 'Hialeah',\n",
       "  'state': 'Fl',\n",
       "  'zipcode ': '33012'},\n",
       " {'firstName': 'Jane',\n",
       "  'lastName': 'Evans',\n",
       "  'role': 'student',\n",
       "  'telephone ': 3259909290,\n",
       "  'street': '1461 Briarhill Lane',\n",
       "  'city': 'Abilene',\n",
       "  'state': 'TX',\n",
       "  'zipcode ': '79602'},\n",
       " {'firstName': 'Jane',\n",
       "  'lastName': 'Evans',\n",
       "  'role': 'student',\n",
       "  'telephone ': 3259909290,\n",
       "  'street': '1461 Briarhill Lane',\n",
       "  'city': 'Abilene',\n",
       "  'state': 'TX',\n",
       "  'zipcode ': '79602'},\n",
       " {'firstName': 'Mary',\n",
       "  'lastName': 'Raines',\n",
       "  'role': 'student',\n",
       "  'telephone ': 9075772295,\n",
       "  'street': '3975 Jerry Toth Drive',\n",
       "  'city': 'Ninilchik',\n",
       "  'state': 'AK',\n",
       "  'zipcode ': '99639'},\n",
       " {'firstName': 'Ed',\n",
       "  'lastName': 'Lyman',\n",
       "  'role': 'student',\n",
       "  'telephone ': 5179695576,\n",
       "  'street': '3478 Be Sreet',\n",
       "  'city': 'Lansing',\n",
       "  'state': 'MI',\n",
       "  'zipcode ': '48933'}]"
      ]
     },
     "execution_count": 57,
     "metadata": {},
     "output_type": "execute_result"
    }
   ],
   "source": [
    "# Load the list of dictionaries; just run this cell\n",
    "import pickle\n",
    "\n",
    "with open('contact_list.pickle', 'rb') as f:\n",
    "    contacts = pickle.load(f)\n",
    "contacts"
   ]
  },
  {
   "cell_type": "code",
   "execution_count": 58,
   "metadata": {},
   "outputs": [],
   "source": [
    "# Iterate over the contact list and populate the contactInfo table here\n",
    "contacts\n",
    "# for contact in contacts:\n",
    "#     firstname = contact['firstName']\n",
    "#     lastname = contact['lastName']\n",
    "#     role = contact['role']\n",
    "#     telephone =contact['telephone ']\n",
    "#     street = contact['street']\n",
    "#     city = contact['city']\n",
    "#     state = contact['state']\n",
    "#     zipcode = contact['zipcode ']\n",
    "#     cur.execute(\"\"\"INSERT INTO contactInfo(first_name,last_name,role,telephone_number,street,city,state,zipcode \n",
    "#     ) Values(f'{firstname}',f'{lastname}',f'{role}',f'{telephone}',f'{street}',f'{city}',f'{state}',f'{zipcode}')\n",
    "#                \"\"\")\n",
    "    \n",
    "\n",
    "    \n",
    "\n",
    "    \n",
    "    \n",
    "    \n",
    "for contact in contacts:\n",
    "    firstname = contact['firstName']\n",
    "    lastname = contact['lastName']\n",
    "    role = contact['role']\n",
    "    telephone =contact['telephone ']\n",
    "    street = contact['street']\n",
    "    city = contact['city']\n",
    "    state = contact['state']\n",
    "    zipcode = contact['zipcode ']\n",
    "    cur.execute(\"\"\"INSERT INTO contactInfo(first_name,last_name,role,telephone_number,street,city,state,zipcode)  \n",
    "                   VALUES ('{}', '{}', '{}', '{}', '{}', '{}', '{}', '{}');\n",
    "                \"\"\".format(firstname, lastname, role, telephone, street, city, state, zipcode) )\n",
    "    "
   ]
  },
  {
   "cell_type": "markdown",
   "metadata": {},
   "source": [
    "**Query the Table to Ensure it is populated**"
   ]
  },
  {
   "cell_type": "code",
   "execution_count": 59,
   "metadata": {},
   "outputs": [
    {
     "data": {
      "text/html": [
       "<div>\n",
       "<style scoped>\n",
       "    .dataframe tbody tr th:only-of-type {\n",
       "        vertical-align: middle;\n",
       "    }\n",
       "\n",
       "    .dataframe tbody tr th {\n",
       "        vertical-align: top;\n",
       "    }\n",
       "\n",
       "    .dataframe thead th {\n",
       "        text-align: right;\n",
       "    }\n",
       "</style>\n",
       "<table border=\"1\" class=\"dataframe\">\n",
       "  <thead>\n",
       "    <tr style=\"text-align: right;\">\n",
       "      <th></th>\n",
       "      <th>id</th>\n",
       "      <th>first_name</th>\n",
       "      <th>last_name</th>\n",
       "      <th>role</th>\n",
       "      <th>telephone_number</th>\n",
       "      <th>street</th>\n",
       "      <th>city</th>\n",
       "      <th>state</th>\n",
       "      <th>zipcode</th>\n",
       "    </tr>\n",
       "  </thead>\n",
       "  <tbody>\n",
       "    <tr>\n",
       "      <th>0</th>\n",
       "      <td>1</td>\n",
       "      <td>{firstname}</td>\n",
       "      <td>{lastname}</td>\n",
       "      <td>{role}</td>\n",
       "      <td>{telephone}</td>\n",
       "      <td>{street}</td>\n",
       "      <td>{city}</td>\n",
       "      <td>{state}</td>\n",
       "      <td>{zipcode}</td>\n",
       "    </tr>\n",
       "    <tr>\n",
       "      <th>1</th>\n",
       "      <td>2</td>\n",
       "      <td>{firstname}</td>\n",
       "      <td>{lastname}</td>\n",
       "      <td>{role}</td>\n",
       "      <td>{telephone}</td>\n",
       "      <td>{street}</td>\n",
       "      <td>{city}</td>\n",
       "      <td>{state}</td>\n",
       "      <td>{zipcode}</td>\n",
       "    </tr>\n",
       "    <tr>\n",
       "      <th>2</th>\n",
       "      <td>3</td>\n",
       "      <td>{firstname}</td>\n",
       "      <td>{lastname}</td>\n",
       "      <td>{role}</td>\n",
       "      <td>{telephone}</td>\n",
       "      <td>{street}</td>\n",
       "      <td>{city}</td>\n",
       "      <td>{state}</td>\n",
       "      <td>{zipcode}</td>\n",
       "    </tr>\n",
       "    <tr>\n",
       "      <th>3</th>\n",
       "      <td>4</td>\n",
       "      <td>{firstname}</td>\n",
       "      <td>{lastname}</td>\n",
       "      <td>{role}</td>\n",
       "      <td>{telephone}</td>\n",
       "      <td>{street}</td>\n",
       "      <td>{city}</td>\n",
       "      <td>{state}</td>\n",
       "      <td>{zipcode}</td>\n",
       "    </tr>\n",
       "    <tr>\n",
       "      <th>4</th>\n",
       "      <td>5</td>\n",
       "      <td>{firstname}</td>\n",
       "      <td>{lastname}</td>\n",
       "      <td>{role}</td>\n",
       "      <td>{telephone}</td>\n",
       "      <td>{street}</td>\n",
       "      <td>{city}</td>\n",
       "      <td>{state}</td>\n",
       "      <td>{zipcode}</td>\n",
       "    </tr>\n",
       "    <tr>\n",
       "      <th>...</th>\n",
       "      <td>...</td>\n",
       "      <td>...</td>\n",
       "      <td>...</td>\n",
       "      <td>...</td>\n",
       "      <td>...</td>\n",
       "      <td>...</td>\n",
       "      <td>...</td>\n",
       "      <td>...</td>\n",
       "      <td>...</td>\n",
       "    </tr>\n",
       "    <tr>\n",
       "      <th>67</th>\n",
       "      <td>68</td>\n",
       "      <td>Andrew</td>\n",
       "      <td>Stepp</td>\n",
       "      <td>student</td>\n",
       "      <td>7866419252</td>\n",
       "      <td>2981 Lamberts Branch Road</td>\n",
       "      <td>Hialeah</td>\n",
       "      <td>Fl</td>\n",
       "      <td>33012</td>\n",
       "    </tr>\n",
       "    <tr>\n",
       "      <th>68</th>\n",
       "      <td>69</td>\n",
       "      <td>Jane</td>\n",
       "      <td>Evans</td>\n",
       "      <td>student</td>\n",
       "      <td>3259909290</td>\n",
       "      <td>1461 Briarhill Lane</td>\n",
       "      <td>Abilene</td>\n",
       "      <td>TX</td>\n",
       "      <td>79602</td>\n",
       "    </tr>\n",
       "    <tr>\n",
       "      <th>69</th>\n",
       "      <td>70</td>\n",
       "      <td>Jane</td>\n",
       "      <td>Evans</td>\n",
       "      <td>student</td>\n",
       "      <td>3259909290</td>\n",
       "      <td>1461 Briarhill Lane</td>\n",
       "      <td>Abilene</td>\n",
       "      <td>TX</td>\n",
       "      <td>79602</td>\n",
       "    </tr>\n",
       "    <tr>\n",
       "      <th>70</th>\n",
       "      <td>71</td>\n",
       "      <td>Mary</td>\n",
       "      <td>Raines</td>\n",
       "      <td>student</td>\n",
       "      <td>9075772295</td>\n",
       "      <td>3975 Jerry Toth Drive</td>\n",
       "      <td>Ninilchik</td>\n",
       "      <td>AK</td>\n",
       "      <td>99639</td>\n",
       "    </tr>\n",
       "    <tr>\n",
       "      <th>71</th>\n",
       "      <td>72</td>\n",
       "      <td>Ed</td>\n",
       "      <td>Lyman</td>\n",
       "      <td>student</td>\n",
       "      <td>5179695576</td>\n",
       "      <td>3478 Be Sreet</td>\n",
       "      <td>Lansing</td>\n",
       "      <td>MI</td>\n",
       "      <td>48933</td>\n",
       "    </tr>\n",
       "  </tbody>\n",
       "</table>\n",
       "<p>72 rows × 9 columns</p>\n",
       "</div>"
      ],
      "text/plain": [
       "    id   first_name   last_name     role telephone_number  \\\n",
       "0    1  {firstname}  {lastname}   {role}      {telephone}   \n",
       "1    2  {firstname}  {lastname}   {role}      {telephone}   \n",
       "2    3  {firstname}  {lastname}   {role}      {telephone}   \n",
       "3    4  {firstname}  {lastname}   {role}      {telephone}   \n",
       "4    5  {firstname}  {lastname}   {role}      {telephone}   \n",
       "..  ..          ...         ...      ...              ...   \n",
       "67  68       Andrew       Stepp  student       7866419252   \n",
       "68  69         Jane       Evans  student       3259909290   \n",
       "69  70         Jane       Evans  student       3259909290   \n",
       "70  71         Mary      Raines  student       9075772295   \n",
       "71  72           Ed       Lyman  student       5179695576   \n",
       "\n",
       "                       street       city    state    zipcode  \n",
       "0                    {street}     {city}  {state}  {zipcode}  \n",
       "1                    {street}     {city}  {state}  {zipcode}  \n",
       "2                    {street}     {city}  {state}  {zipcode}  \n",
       "3                    {street}     {city}  {state}  {zipcode}  \n",
       "4                    {street}     {city}  {state}  {zipcode}  \n",
       "..                        ...        ...      ...        ...  \n",
       "67  2981 Lamberts Branch Road    Hialeah       Fl      33012  \n",
       "68        1461 Briarhill Lane    Abilene       TX      79602  \n",
       "69        1461 Briarhill Lane    Abilene       TX      79602  \n",
       "70      3975 Jerry Toth Drive  Ninilchik       AK      99639  \n",
       "71              3478 Be Sreet    Lansing       MI      48933  \n",
       "\n",
       "[72 rows x 9 columns]"
      ]
     },
     "execution_count": 59,
     "metadata": {},
     "output_type": "execute_result"
    }
   ],
   "source": [
    "# Your code here \n",
    "cur.execute(\"\"\"SELECT *\n",
    "            FROM contactInfo;\"\"\")\n",
    "df = pd.DataFrame(cur.fetchall())\n",
    "df.columns = [x[0] for x in cur.description]\n",
    "df\n",
    "\n"
   ]
  },
  {
   "cell_type": "markdown",
   "metadata": {},
   "source": [
    "## Commit Your Changes to the Database\n",
    "\n",
    "Persist your changes by committing them to the database."
   ]
  },
  {
   "cell_type": "code",
   "execution_count": 60,
   "metadata": {},
   "outputs": [],
   "source": [
    "# Your code here\n",
    "conn.commit()"
   ]
  },
  {
   "cell_type": "markdown",
   "metadata": {},
   "source": [
    "## Create a Table for Student Grades\n",
    "\n",
    "Create a new table in the database called \"grades\". In the table, include the following fields: userId, courseId, grade.\n",
    "\n",
    "** This problem is a bit more tricky and will require a dual key. (A nuance you have yet to see.)\n",
    "Here's how to do that:\n",
    "\n",
    "```SQL\n",
    "CREATE TABLE table_name(\n",
    "   column_1 INTEGER NOT NULL,\n",
    "   column_2 INTEGER NOT NULL,\n",
    "   ...\n",
    "   PRIMARY KEY(column_1,column_2,...)\n",
    ");\n",
    "```"
   ]
  },
  {
   "cell_type": "code",
   "execution_count": 61,
   "metadata": {},
   "outputs": [
    {
     "data": {
      "text/plain": [
       "<sqlite3.Cursor at 0x7fbe1023b500>"
      ]
     },
     "execution_count": 61,
     "metadata": {},
     "output_type": "execute_result"
    }
   ],
   "source": [
    "# Create the grades table\n",
    "cur.execute(\"\"\"CREATE TABLE grades (userId Integer, courseId Integer, grade Integer,\n",
    "                Primary Key(userId, courseId));\"\"\")"
   ]
  },
  {
   "cell_type": "markdown",
   "metadata": {},
   "source": [
    "## Remove Duplicate Entries\n",
    "\n",
    "An analyst just realized that there is a duplicate entry in the contactInfo table! Find and remove it."
   ]
  },
  {
   "cell_type": "code",
   "execution_count": 63,
   "metadata": {},
   "outputs": [
    {
     "data": {
      "text/plain": [
       "[('Andrew', 'Stepp', '7866419252', 4),\n",
       " ('Christine', 'Holden', '2035687697', 4),\n",
       " ('Christopher', 'Warren', '2175150957', 4),\n",
       " ('Ed', 'Lyman', '5179695576', 4),\n",
       " ('Jane', 'Evans', '3259909290', 8),\n",
       " ('Linda', 'Jacobson', '4049446441', 4),\n",
       " ('Mary', 'Raines', '9075772295', 4),\n",
       " ('{firstname}', '{lastname}', '{telephone}', 40)]"
      ]
     },
     "execution_count": 63,
     "metadata": {},
     "output_type": "execute_result"
    }
   ],
   "source": [
    "# Find the duplicate entry\n",
    "cur.execute(\"\"\"SELECT first_name, last_name, telephone_number, Count(*)\n",
    "                FROM contactInfo\n",
    "                GRoup by first_name, last_name, telephone_number\n",
    "                Having count(*)>1;\"\"\").fetchall()"
   ]
  },
  {
   "cell_type": "code",
   "execution_count": 65,
   "metadata": {},
   "outputs": [
    {
     "data": {
      "text/plain": [
       "<sqlite3.Cursor at 0x7fbe1023b500>"
      ]
     },
     "execution_count": 65,
     "metadata": {},
     "output_type": "execute_result"
    }
   ],
   "source": [
    "# Delete the duplicate entry\n",
    "cur.execute(\"\"\"DELETE FROM contactInfo\n",
    "                where first_name = 'Jane';\"\"\")"
   ]
  },
  {
   "cell_type": "code",
   "execution_count": 66,
   "metadata": {},
   "outputs": [
    {
     "data": {
      "text/plain": [
       "[('Andrew', 'Stepp', '7866419252', 4),\n",
       " ('Christine', 'Holden', '2035687697', 4),\n",
       " ('Christopher', 'Warren', '2175150957', 4),\n",
       " ('Ed', 'Lyman', '5179695576', 4),\n",
       " ('Linda', 'Jacobson', '4049446441', 4),\n",
       " ('Mary', 'Raines', '9075772295', 4),\n",
       " ('{firstname}', '{lastname}', '{telephone}', 40)]"
      ]
     },
     "execution_count": 66,
     "metadata": {},
     "output_type": "execute_result"
    }
   ],
   "source": [
    "# Check that the duplicate entry was removed\n",
    "cur.execute(\"\"\"SELECT first_name, last_name, telephone_number, Count(*)\n",
    "                FROM contactInfo\n",
    "                GRoup by first_name, last_name, telephone_number\n",
    "                Having count(*)>1;\"\"\").fetchall()"
   ]
  },
  {
   "cell_type": "markdown",
   "metadata": {},
   "source": [
    "## Updating an Address\n",
    "\n",
    "Ed Lyman just moved to `2910 Simpson Avenue York, PA 17403`. Update his address accordingly."
   ]
  },
  {
   "cell_type": "code",
   "execution_count": 67,
   "metadata": {},
   "outputs": [
    {
     "data": {
      "text/plain": [
       "<sqlite3.Cursor at 0x7fbe1023b500>"
      ]
     },
     "execution_count": 67,
     "metadata": {},
     "output_type": "execute_result"
    }
   ],
   "source": [
    "# Update Ed's address\n",
    "cur.execute(\"\"\"UPdate contactInfo\n",
    "                SET street = '2910 Simpson Avenue',\n",
    "                city = 'York',\n",
    "                state = 'PA',\n",
    "                zipcode = '17043'\n",
    "                WHERE first_name = 'Ed' and last_name ='Lyman';\n",
    "                \"\"\")"
   ]
  },
  {
   "cell_type": "code",
   "execution_count": 70,
   "metadata": {},
   "outputs": [
    {
     "data": {
      "text/html": [
       "<div>\n",
       "<style scoped>\n",
       "    .dataframe tbody tr th:only-of-type {\n",
       "        vertical-align: middle;\n",
       "    }\n",
       "\n",
       "    .dataframe tbody tr th {\n",
       "        vertical-align: top;\n",
       "    }\n",
       "\n",
       "    .dataframe thead th {\n",
       "        text-align: right;\n",
       "    }\n",
       "</style>\n",
       "<table border=\"1\" class=\"dataframe\">\n",
       "  <thead>\n",
       "    <tr style=\"text-align: right;\">\n",
       "      <th></th>\n",
       "      <th>id</th>\n",
       "      <th>first_name</th>\n",
       "      <th>last_name</th>\n",
       "      <th>role</th>\n",
       "      <th>telephone_number</th>\n",
       "      <th>street</th>\n",
       "      <th>city</th>\n",
       "      <th>state</th>\n",
       "      <th>zipcode</th>\n",
       "    </tr>\n",
       "  </thead>\n",
       "  <tbody>\n",
       "    <tr>\n",
       "      <th>0</th>\n",
       "      <td>1</td>\n",
       "      <td>{firstname}</td>\n",
       "      <td>{lastname}</td>\n",
       "      <td>{role}</td>\n",
       "      <td>{telephone}</td>\n",
       "      <td>{street}</td>\n",
       "      <td>{city}</td>\n",
       "      <td>{state}</td>\n",
       "      <td>{zipcode}</td>\n",
       "    </tr>\n",
       "    <tr>\n",
       "      <th>1</th>\n",
       "      <td>2</td>\n",
       "      <td>{firstname}</td>\n",
       "      <td>{lastname}</td>\n",
       "      <td>{role}</td>\n",
       "      <td>{telephone}</td>\n",
       "      <td>{street}</td>\n",
       "      <td>{city}</td>\n",
       "      <td>{state}</td>\n",
       "      <td>{zipcode}</td>\n",
       "    </tr>\n",
       "    <tr>\n",
       "      <th>2</th>\n",
       "      <td>3</td>\n",
       "      <td>{firstname}</td>\n",
       "      <td>{lastname}</td>\n",
       "      <td>{role}</td>\n",
       "      <td>{telephone}</td>\n",
       "      <td>{street}</td>\n",
       "      <td>{city}</td>\n",
       "      <td>{state}</td>\n",
       "      <td>{zipcode}</td>\n",
       "    </tr>\n",
       "    <tr>\n",
       "      <th>3</th>\n",
       "      <td>4</td>\n",
       "      <td>{firstname}</td>\n",
       "      <td>{lastname}</td>\n",
       "      <td>{role}</td>\n",
       "      <td>{telephone}</td>\n",
       "      <td>{street}</td>\n",
       "      <td>{city}</td>\n",
       "      <td>{state}</td>\n",
       "      <td>{zipcode}</td>\n",
       "    </tr>\n",
       "    <tr>\n",
       "      <th>4</th>\n",
       "      <td>5</td>\n",
       "      <td>{firstname}</td>\n",
       "      <td>{lastname}</td>\n",
       "      <td>{role}</td>\n",
       "      <td>{telephone}</td>\n",
       "      <td>{street}</td>\n",
       "      <td>{city}</td>\n",
       "      <td>{state}</td>\n",
       "      <td>{zipcode}</td>\n",
       "    </tr>\n",
       "    <tr>\n",
       "      <th>...</th>\n",
       "      <td>...</td>\n",
       "      <td>...</td>\n",
       "      <td>...</td>\n",
       "      <td>...</td>\n",
       "      <td>...</td>\n",
       "      <td>...</td>\n",
       "      <td>...</td>\n",
       "      <td>...</td>\n",
       "      <td>...</td>\n",
       "    </tr>\n",
       "    <tr>\n",
       "      <th>59</th>\n",
       "      <td>66</td>\n",
       "      <td>Christopher</td>\n",
       "      <td>Warren</td>\n",
       "      <td>student</td>\n",
       "      <td>2175150957</td>\n",
       "      <td>1935 University Hill Road</td>\n",
       "      <td>Champaign</td>\n",
       "      <td>IL</td>\n",
       "      <td>61938</td>\n",
       "    </tr>\n",
       "    <tr>\n",
       "      <th>60</th>\n",
       "      <td>67</td>\n",
       "      <td>Linda</td>\n",
       "      <td>Jacobson</td>\n",
       "      <td>staff</td>\n",
       "      <td>4049446441</td>\n",
       "      <td>479 Musgrave Street</td>\n",
       "      <td>Atlanta</td>\n",
       "      <td>GA</td>\n",
       "      <td>30303</td>\n",
       "    </tr>\n",
       "    <tr>\n",
       "      <th>61</th>\n",
       "      <td>68</td>\n",
       "      <td>Andrew</td>\n",
       "      <td>Stepp</td>\n",
       "      <td>student</td>\n",
       "      <td>7866419252</td>\n",
       "      <td>2981 Lamberts Branch Road</td>\n",
       "      <td>Hialeah</td>\n",
       "      <td>Fl</td>\n",
       "      <td>33012</td>\n",
       "    </tr>\n",
       "    <tr>\n",
       "      <th>62</th>\n",
       "      <td>71</td>\n",
       "      <td>Mary</td>\n",
       "      <td>Raines</td>\n",
       "      <td>student</td>\n",
       "      <td>9075772295</td>\n",
       "      <td>3975 Jerry Toth Drive</td>\n",
       "      <td>Ninilchik</td>\n",
       "      <td>AK</td>\n",
       "      <td>99639</td>\n",
       "    </tr>\n",
       "    <tr>\n",
       "      <th>63</th>\n",
       "      <td>72</td>\n",
       "      <td>Ed</td>\n",
       "      <td>Lyman</td>\n",
       "      <td>student</td>\n",
       "      <td>5179695576</td>\n",
       "      <td>2910 Simpson Avenue</td>\n",
       "      <td>York</td>\n",
       "      <td>PA</td>\n",
       "      <td>17043</td>\n",
       "    </tr>\n",
       "  </tbody>\n",
       "</table>\n",
       "<p>64 rows × 9 columns</p>\n",
       "</div>"
      ],
      "text/plain": [
       "    id   first_name   last_name     role telephone_number  \\\n",
       "0    1  {firstname}  {lastname}   {role}      {telephone}   \n",
       "1    2  {firstname}  {lastname}   {role}      {telephone}   \n",
       "2    3  {firstname}  {lastname}   {role}      {telephone}   \n",
       "3    4  {firstname}  {lastname}   {role}      {telephone}   \n",
       "4    5  {firstname}  {lastname}   {role}      {telephone}   \n",
       "..  ..          ...         ...      ...              ...   \n",
       "59  66  Christopher      Warren  student       2175150957   \n",
       "60  67        Linda    Jacobson    staff       4049446441   \n",
       "61  68       Andrew       Stepp  student       7866419252   \n",
       "62  71         Mary      Raines  student       9075772295   \n",
       "63  72           Ed       Lyman  student       5179695576   \n",
       "\n",
       "                       street       city    state    zipcode  \n",
       "0                    {street}     {city}  {state}  {zipcode}  \n",
       "1                    {street}     {city}  {state}  {zipcode}  \n",
       "2                    {street}     {city}  {state}  {zipcode}  \n",
       "3                    {street}     {city}  {state}  {zipcode}  \n",
       "4                    {street}     {city}  {state}  {zipcode}  \n",
       "..                        ...        ...      ...        ...  \n",
       "59  1935 University Hill Road  Champaign       IL      61938  \n",
       "60        479 Musgrave Street    Atlanta       GA      30303  \n",
       "61  2981 Lamberts Branch Road    Hialeah       Fl      33012  \n",
       "62      3975 Jerry Toth Drive  Ninilchik       AK      99639  \n",
       "63        2910 Simpson Avenue       York       PA      17043  \n",
       "\n",
       "[64 rows x 9 columns]"
      ]
     },
     "execution_count": 70,
     "metadata": {},
     "output_type": "execute_result"
    }
   ],
   "source": [
    "# Query the database to ensure the change was made\n",
    "cur.execute(\"\"\"SELECT *\n",
    "            FROM contactInfo;\"\"\"\n",
    "               )\n",
    "df = pd.DataFrame(cur.fetchall())\n",
    "df.columns = [x[0] for x in cur.description]\n",
    "df"
   ]
  },
  {
   "cell_type": "markdown",
   "metadata": {},
   "source": [
    "## Commit Your Changes to the Database\n",
    "\n",
    "Once again, persist your changes by committing them to the database."
   ]
  },
  {
   "cell_type": "code",
   "execution_count": 71,
   "metadata": {},
   "outputs": [],
   "source": [
    "# Your code here\n",
    "conn.commit()"
   ]
  },
  {
   "cell_type": "markdown",
   "metadata": {},
   "source": [
    "## Summary\n",
    "\n",
    "While there's certainly more to do with setting up and managing this database, you got a taste for creating, populating, and maintaining databases! Feel free to continue fleshing out this exercise for more practice. "
   ]
  }
 ],
 "metadata": {
  "kernelspec": {
   "display_name": "Python 3",
   "language": "python",
   "name": "python3"
  },
  "language_info": {
   "codemirror_mode": {
    "name": "ipython",
    "version": 3
   },
   "file_extension": ".py",
   "mimetype": "text/x-python",
   "name": "python",
   "nbconvert_exporter": "python",
   "pygments_lexer": "ipython3",
   "version": "3.8.5"
  },
  "toc": {
   "base_numbering": 1,
   "nav_menu": {},
   "number_sections": true,
   "sideBar": true,
   "skip_h1_title": false,
   "title_cell": "Table of Contents",
   "title_sidebar": "Contents",
   "toc_cell": false,
   "toc_position": {},
   "toc_section_display": true,
   "toc_window_display": false
  }
 },
 "nbformat": 4,
 "nbformat_minor": 2
}
